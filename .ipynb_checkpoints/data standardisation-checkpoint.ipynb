{
 "cells": [
  {
   "cell_type": "code",
   "execution_count": 3,
   "metadata": {
    "collapsed": false
   },
   "outputs": [],
   "source": [
    "import matplotlib.pyplot as plt\n",
    "import matplotlib\n",
    "import pandas as pd\n",
    "import numpy as np\n",
    "import folium\n",
    "import time\n",
    "import math\n",
    "from IPython.display import display\n",
    "%matplotlib inline\n",
    "matplotlib.style.use('ggplot')"
   ]
  },
  {
   "cell_type": "markdown",
   "metadata": {},
   "source": [
    "### 1.  date"
   ]
  },
  {
   "cell_type": "code",
   "execution_count": 18,
   "metadata": {
    "collapsed": false
   },
   "outputs": [
    {
     "name": "stdout",
     "output_type": "stream",
     "text": [
      "0\n",
      "29\n"
     ]
    }
   ],
   "source": [
    "a = '24/7/2016'\n",
    "a = time.strptime(a,\"%d/%m/%Y\")\n",
    "type(a)\n",
    "print time.strftime('%w',a) # Weekday as a decimal number, where 0 is Sunday and 6 is Saturday.\n",
    "print time.strftime('%W',a) # Week number of the year (Monday as the first day of the week) \n",
    "                            # as a decimal number [00,53]. \n",
    "                            # All days in a new year preceding the first Monday are considered to \n",
    "                            # be in week 0.\n"
   ]
  },
  {
   "cell_type": "code",
   "execution_count": 72,
   "metadata": {
    "collapsed": false,
    "scrolled": true
   },
   "outputs": [],
   "source": [
    "import math\n",
    "def one_hot_code(encode, column, start, npdata):\n",
    "    rawdata = df[column].values\n",
    "    i = 0\n",
    "    for j in rawdata:\n",
    "        npdata[i, start + encode[j]] = 1\n",
    "        i+=1\n",
    "\n",
    "\n",
    "df = pd.read_csv('data2/Accidents_kis_2014.csv')\n",
    "## select features\n",
    "df = df[['Number_of_Vehicles', 'Date', 'Time','Longitude', \n",
    "         'Latitude', 'Speed_limit', 'Junction_Detail', 'Junction_Control', 'Light_Conditions', \n",
    "         'Weather_Conditions','Road_Surface_Conditions', 'Special_Conditions_at_Site', \n",
    "         'Urban_or_Rural_Area', 'Accident_Severity','Number_of_KIS']]\n",
    "\n",
    "## drop missing data\n",
    "# weather_Conditions\n",
    "# Road_Surface_Conditions\n",
    "df = df.drop(df[df.Road_Surface_Conditions < 0].index)\n",
    "# Special_Conditions_at_site\n",
    "# Urban_or_Rural_Area\n",
    "\n",
    "## Create numpy array\n",
    "npdata = np.zeros(shape=(len(df),57))  # features(0-52)|Accident_severity(53-55)|number_of_kis\n",
    "\n",
    "## number of vehicles\n",
    "npdata[:,0] = df['Number_of_Vehicles'].values\n",
    "\n",
    "## month, week, weekday\n",
    "day = df['Date'].values\n",
    "i = 0\n",
    "for d in day:\n",
    "    d = time.strptime(d, '%d/%m/%Y')\n",
    "    npdata[i,1] = time.strftime('%m', d) # month\n",
    "    npdata[i,2] = time.strftime('%W', d) # week\n",
    "    npdata[i,3] = time.strftime('%w', d) # weekday\n",
    "    i += 1\n",
    "    \n",
    "## time1 and time2 (sin and cos)\n",
    "tt = df['Time'].values\n",
    "i = 0\n",
    "for t in tt:\n",
    "    hm = t.split(':')\n",
    "    t = float(hm[0])*60 + float(hm[1])\n",
    "    npdata[i,4] = math.sin(2* math.pi * t/1440)\n",
    "    npdata[i,5] = math.cos(2* math.pi * t/1440)\n",
    "    \n",
    "## longitude and latitude\n",
    "npdata[:,6] = df['Longitude'].values\n",
    "npdata[:,7] = df['Latitude'].values\n",
    "\n",
    "## speed limit\n",
    "npdata[:,8] = df['Speed_limit'].values\n",
    "\n",
    "## Junction Detail\n",
    "encode = {0: 0, 1:1, 2: 2, 3:3, 5:4, 6:5, 7:6, 8:7, 9:8}\n",
    "one_hot_code(encode = encode, column = 'Junction_Detail', start = 9, npdata = npdata)\n",
    "\n",
    "## Junction Control\n",
    "junc = df['Junction_Control'].values\n",
    "i = 0\n",
    "for j in junc:\n",
    "    if j == -1:\n",
    "        npdata[i,18] = 1\n",
    "    else:\n",
    "        npdata[i, 18+j] = 1\n",
    "    i+=1\n",
    "\n",
    "## Light Conditions\n",
    "encode = {1:0, 4:1, 5:2, 6:3, 7:4}\n",
    "one_hot_code(encode = encode, column = 'Light_Conditions', start = 23, npdata = npdata)\n",
    "\n",
    "## Weather Conditions\n",
    "encode = {1:0, 2: 1, 3: 2, 4: 3, 5:4, 6:5, 7:6, 8:7, 9:8}\n",
    "one_hot_code(encode = encode, column = 'Weather_Conditions', start = 28, npdata = npdata)\n",
    "\n",
    "## Road surface conditions\n",
    "encode = {1:0, 2: 1, 3: 2, 4: 3, 5:4, 6:5, 7:6}\n",
    "one_hot_code(encode = encode, column = 'Road_Surface_Conditions', start = 37, npdata = npdata)\n",
    "\n",
    "## Special conditions at site\n",
    "encode = {0:0, 1: 1, 2: 2, 3: 3, 4:4, 5:5, 6:6, 7:7}\n",
    "one_hot_code(encode = encode, column = 'Special_Conditions_at_Site', start = 44, npdata = npdata)\n",
    "\n",
    "## urban or rural\n",
    "ur = df['Urban_or_Rural_Area'].values\n",
    "i = 0\n",
    "for j in ur:\n",
    "    if j==1:\n",
    "        npdata[i, 52] = 1\n",
    "    else:\n",
    "        npdata[i, 52] = -1\n",
    "    i+=1\n",
    "\n",
    "## Accident severity\n",
    "encode = {1:0, 2:1, 3:2}\n",
    "one_hot_code(encode = encode, column = 'Accident_Severity', start = 53, npdata = npdata)\n",
    "\n",
    "## Number of KIS\n",
    "npdata[:,56] = df['Number_of_KIS'].values\n",
    "\n",
    "np.save('data2/demo_2014_numpy_encoded.npy', npdata) # implement encoding, wait for normalisation"
   ]
  },
  {
   "cell_type": "code",
   "execution_count": null,
   "metadata": {
    "collapsed": true
   },
   "outputs": [],
   "source": []
  }
 ],
 "metadata": {
  "kernelspec": {
   "display_name": "Python 2",
   "language": "python",
   "name": "python2"
  },
  "language_info": {
   "codemirror_mode": {
    "name": "ipython",
    "version": 2
   },
   "file_extension": ".py",
   "mimetype": "text/x-python",
   "name": "python",
   "nbconvert_exporter": "python",
   "pygments_lexer": "ipython2",
   "version": "2.7.11"
  }
 },
 "nbformat": 4,
 "nbformat_minor": 0
}
