{
 "cells": [
  {
   "cell_type": "markdown",
   "metadata": {},
   "source": [
    "### Work on data3: Accidents on M and A(M) roads"
   ]
  },
  {
   "cell_type": "code",
   "execution_count": 1,
   "metadata": {
    "collapsed": false
   },
   "outputs": [
    {
     "name": "stderr",
     "output_type": "stream",
     "text": [
      "/Users/XueqiWang/anaconda/lib/python2.7/site-packages/matplotlib/font_manager.py:273: UserWarning: Matplotlib is building the font cache using fc-list. This may take a moment.\n",
      "  warnings.warn('Matplotlib is building the font cache using fc-list. This may take a moment.')\n"
     ]
    }
   ],
   "source": [
    "import matplotlib.pyplot as plt\n",
    "import matplotlib\n",
    "import pandas as pd\n",
    "import numpy as np\n",
    "import folium\n",
    "import time\n",
    "from IPython.display import display\n",
    "%matplotlib inline\n",
    "matplotlib.style.use('ggplot')"
   ]
  },
  {
   "cell_type": "markdown",
   "metadata": {},
   "source": [
    "### Plot the accident map in each year"
   ]
  },
  {
   "cell_type": "code",
   "execution_count": 8,
   "metadata": {
    "collapsed": false
   },
   "outputs": [
    {
     "name": "stderr",
     "output_type": "stream",
     "text": [
      "/Users/XueqiWang/anaconda/lib/python2.7/site-packages/ipykernel/__main__.py:19: FutureWarning: Map.create_map is deprecated. Use Map.save instead\n"
     ]
    }
   ],
   "source": [
    "years = ['2009', '2010', '2011', '2012', '2014']\n",
    "for year in years:\n",
    "    df = pd.read_csv('data2/Accidents_'+ year + '.csv',low_memory=False)\n",
    "    rst = df #[(df['1st_Road_Class'] <= 3) & (df['Accident_Severity'] < 3)]\n",
    "    Long = rst.Longitude\n",
    "    Lat = rst.Latitude\n",
    "    severity = rst.Accident_Severity\n",
    "    se_color = {1:'#000000', 2: '#FF0000', 3:'#FF8400'}  #fatal: black; serious: red; slight: orange\n",
    "    map_osm = folium.Map(location=[Lat.values[0],Long.values[0]], tiles='Stamen Toner') #,zoom_start=12) # latitude and longitude\n",
    "    i=0\n",
    "    while (i<len(Long)):\n",
    "        folium.CircleMarker([Lat.values[i],Long.values[i]],\n",
    "                            radius = 10,\n",
    "                            popup = 'Laurelhurst Park',\n",
    "                            color = se_color[severity.values[i]],\n",
    "                            fill_color = se_color[severity.values[i]],\n",
    "                           ).add_to(map_osm)\n",
    "        i+=1\n",
    "    map_osm.create_map(path='osm.html')\n",
    "    map_osm.save('map/accident_'+ year + '.html')\n",
    "    map_osm"
   ]
  },
  {
   "cell_type": "markdown",
   "metadata": {},
   "source": [
    "The number of accident in each month"
   ]
  },
  {
   "cell_type": "code",
   "execution_count": 15,
   "metadata": {
    "collapsed": false
   },
   "outputs": [
    {
     "data": {
      "text/plain": [
       "129    150\n",
       "926    122\n",
       "514    117\n",
       "538    108\n",
       "204    104\n",
       "424     99\n",
       "128     96\n",
       "456     92\n",
       "516     84\n",
       "434     84\n",
       "542     82\n",
       "33      80\n",
       "477     79\n",
       "473     79\n",
       "211     78\n",
       "300     75\n",
       "290     72\n",
       "513     66\n",
       "130     64\n",
       "536     62\n",
       "502     62\n",
       "213     60\n",
       "481     58\n",
       "474     57\n",
       "436     57\n",
       "471     55\n",
       "107     55\n",
       "307     52\n",
       "26      50\n",
       "635     49\n",
       "      ... \n",
       "114      6\n",
       "161      5\n",
       "581      5\n",
       "751      5\n",
       "580      5\n",
       "934      5\n",
       "302      5\n",
       "452      4\n",
       "472      4\n",
       "184      4\n",
       "919      4\n",
       "497      4\n",
       "925      4\n",
       "14       3\n",
       "303      3\n",
       "93       3\n",
       "150      3\n",
       "341      3\n",
       "470      3\n",
       "252      2\n",
       "324      2\n",
       "499      2\n",
       "535      2\n",
       "563      2\n",
       "276      1\n",
       "922      1\n",
       "478      1\n",
       "149      1\n",
       "285      1\n",
       "457      1\n",
       "Name: Local_Authority_(District), dtype: int64"
      ]
     },
     "execution_count": 15,
     "metadata": {},
     "output_type": "execute_result"
    }
   ],
   "source": [
    "df = pd.read_csv('data2/Accidents_2014.csv',low_memory=False)\n",
    "df = df[['Local_Authority_(District)','Longitude', 'Latitude']]\n",
    "df['Local_Authority_(District)'].value_counts()\n"
   ]
  },
  {
   "cell_type": "code",
   "execution_count": null,
   "metadata": {
    "collapsed": true
   },
   "outputs": [],
   "source": []
  }
 ],
 "metadata": {
  "kernelspec": {
   "display_name": "Python 2",
   "language": "python",
   "name": "python2"
  },
  "language_info": {
   "codemirror_mode": {
    "name": "ipython",
    "version": 2
   },
   "file_extension": ".py",
   "mimetype": "text/x-python",
   "name": "python",
   "nbconvert_exporter": "python",
   "pygments_lexer": "ipython2",
   "version": "2.7.11"
  }
 },
 "nbformat": 4,
 "nbformat_minor": 0
}
