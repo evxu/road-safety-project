{
 "cells": [
  {
   "cell_type": "code",
   "execution_count": 2,
   "metadata": {
    "collapsed": false
   },
   "outputs": [
    {
     "name": "stderr",
     "output_type": "stream",
     "text": [
      "/Users/XueqiWang/anaconda/lib/python2.7/site-packages/matplotlib/font_manager.py:273: UserWarning: Matplotlib is building the font cache using fc-list. This may take a moment.\n",
      "  warnings.warn('Matplotlib is building the font cache using fc-list. This may take a moment.')\n"
     ]
    }
   ],
   "source": [
    "import matplotlib.pyplot as plt\n",
    "import matplotlib\n",
    "import pandas as pd\n",
    "import numpy as np\n",
    "import folium\n",
    "matplotlib.style.use('ggplot')"
   ]
  },
  {
   "cell_type": "markdown",
   "metadata": {},
   "source": [
    "## Data cleaning 1st round - Accident data\n",
    "* Select all the accident data from Motorway, A(M) and A roads. \n",
    "* Remove 2nd_Road_Class, 2nd_Road_Number columns.\n",
    "* Save as another CSV document in 'data1' folder."
   ]
  },
  {
   "cell_type": "code",
   "execution_count": 3,
   "metadata": {
    "collapsed": false
   },
   "outputs": [],
   "source": [
    "years = ['2009', '2010', '2011', '2012', '2013', '2014']\n",
    "for year in years:\n",
    "    df = pd.read_csv('data/DfTRoadSafety_Accidents_' + year + '.csv',low_memory=False)\n",
    "    df = df[df['1st_Road_Class'] <= 3]\n",
    "    del df['2nd_Road_Class']\n",
    "    del df['2nd_Road_Number']\n",
    "    df.to_csv('data1/Accidents_' + year + '.csv')"
   ]
  },
  {
   "cell_type": "markdown",
   "metadata": {
    "collapsed": true
   },
   "source": [
    "## Data cleaning 1st round - Casualty data\n",
    "* Select all the casualty data from Motorway, A(M) and A roads.\n",
    "* Save as new CSV document in 'data1' folder."
   ]
  },
  {
   "cell_type": "code",
   "execution_count": null,
   "metadata": {
    "collapsed": true
   },
   "outputs": [],
   "source": [
    "years = ['2009', '2010', '2011', '2012', '2013', '2014']\n",
    "for year in years:\n",
    "    df1 = pd.read_csv('data1/Accidents_' + year + '.csv',low_memory=False, encoding=\"utf-8-sig\")\n",
    "    \n",
    "    df2 = pd.read_csv('data/DfTRoadSafety_Casualties_' + year + '.csv',low_memory=False, encoding=\"utf-8-sig\")\n",
    "    if year == '2014':\n",
    "        df2 = df2.loc[df2[u'Accident_Index'].isin\n",
    "                      (df1[u'Accident_Index'])]\n",
    "    else:\n",
    "        df2 = df2.loc[df2['Acc_Index'].isin(df1['Accident_Index'])]\n",
    "    df2.to_csv('data1/Casualties_' + year + '.csv')"
   ]
  },
  {
   "cell_type": "markdown",
   "metadata": {},
   "source": [
    "Columns:"
   ]
  },
  {
   "cell_type": "code",
   "execution_count": 12,
   "metadata": {
    "collapsed": false
   },
   "outputs": [
    {
     "name": "stdout",
     "output_type": "stream",
     "text": [
      "Index([u'Acc_Index', u'Vehicle_Reference', u'Casualty_Reference',\n",
      "       u'Casualty_Class', u'Sex_of_Casualty', u'Age_Band_of_Casualty',\n",
      "       u'Casualty_Severity', u'Pedestrian_Location', u'Pedestrian_Movement',\n",
      "       u'Car_Passenger', u'Bus_or_Coach_Passenger',\n",
      "       u'Pedestrian_Road_Maintenance_Worker', u'Casualty_Type',\n",
      "       u'Casualty_Home_Area_Type'],\n",
      "      dtype='object')\n",
      "Index([u'Acc_Index', u'Vehicle_Reference', u'Casualty_Reference',\n",
      "       u'Casualty_Class', u'Sex_of_Casualty', u'Age_Band_of_Casualty',\n",
      "       u'Casualty_Severity', u'Pedestrian_Location', u'Pedestrian_Movement',\n",
      "       u'Car_Passenger', u'Bus_or_Coach_Passenger',\n",
      "       u'Pedestrian_Road_Maintenance_Worker', u'Casualty_Type',\n",
      "       u'Casualty_Home_Area_Type'],\n",
      "      dtype='object')\n",
      "Index([u'Acc_Index', u'Vehicle_Reference', u'Casualty_Reference',\n",
      "       u'Casualty_Class', u'Sex_of_Casualty', u'Age_Band_of_Casualty',\n",
      "       u'Casualty_Severity', u'Pedestrian_Location', u'Pedestrian_Movement',\n",
      "       u'Car_Passenger', u'Bus_or_Coach_Passenger',\n",
      "       u'Pedestrian_Road_Maintenance_Worker', u'Casualty_Type',\n",
      "       u'Casualty_Home_Area_Type'],\n",
      "      dtype='object')\n",
      "Index([u'Acc_Index', u'Vehicle_Reference', u'Casualty_Reference',\n",
      "       u'Casualty_Class', u'Sex_of_Casualty', u'Age_Band_of_Casualty',\n",
      "       u'Casualty_Severity', u'Pedestrian_Location', u'Pedestrian_Movement',\n",
      "       u'Car_Passenger', u'Bus_or_Coach_Passenger',\n",
      "       u'Pedestrian_Road_Maintenance_Worker', u'Casualty_Type',\n",
      "       u'Casualty_Home_Area_Type'],\n",
      "      dtype='object')\n",
      "Index([u'Acc_Index', u'Vehicle_Reference', u'Casualty_Reference',\n",
      "       u'Casualty_Class', u'Sex_of_Casualty', u'Age_Band_of_Casualty',\n",
      "       u'Casualty_Severity', u'Pedestrian_Location', u'Pedestrian_Movement',\n",
      "       u'Car_Passenger', u'Bus_or_Coach_Passenger',\n",
      "       u'Pedestrian_Road_Maintenance_Worker', u'Casualty_Type',\n",
      "       u'Casualty_Home_Area_Type'],\n",
      "      dtype='object')\n",
      "Index([u'﻿Accident_Index', u'Vehicle_Reference', u'Casualty_Reference',\n",
      "       u'Casualty_Class', u'Sex_of_Casualty', u'Age_of_Casualty',\n",
      "       u'Age_Band_of_Casualty', u'Casualty_Severity', u'Pedestrian_Location',\n",
      "       u'Pedestrian_Movement', u'Car_Passenger', u'Bus_or_Coach_Passenger',\n",
      "       u'Pedestrian_Road_Maintenance_Worker', u'Casualty_Type',\n",
      "       u'Casualty_Home_Area_Type'],\n",
      "      dtype='object')\n"
     ]
    }
   ],
   "source": [
    "years = ['2009', '2010', '2011', '2012', '2013', '2014']\n",
    "for year in years:\n",
    "    df = pd.read_csv('data/DfTRoadSafety_Casualties_' + year + '.csv',low_memory=False)\n",
    "    print df.columns"
   ]
  },
  {
   "cell_type": "markdown",
   "metadata": {
    "collapsed": false
   },
   "source": [
    "#### Note: column names in casualties dataset in 2014 are different from others."
   ]
  },
  {
   "cell_type": "markdown",
   "metadata": {},
   "source": [
    "### data Cleaning 1st round - Casualty data version 2\n",
    "* Select all the casualty data from Motorway and A(M) roads.\n",
    "* Save as Casualties_M_year"
   ]
  },
  {
   "cell_type": "code",
   "execution_count": 3,
   "metadata": {
    "collapsed": false
   },
   "outputs": [],
   "source": [
    "years = ['2009', '2010', '2011', '2012', '2013', '2014']\n",
    "for year in years:\n",
    "    df1 = pd.read_csv('data1/Accidents_' + year + '.csv',low_memory=False, encoding=\"utf-8-sig\")\n",
    "    df1 = df1[df1['1st_Road_Class'] < 3]\n",
    "    df2 = pd.read_csv('data/DfTRoadSafety_Casualties_' + year + '.csv',low_memory=False, encoding=\"utf-8-sig\")\n",
    "    if year == '2014':\n",
    "        df2 = df2.loc[df2[u'Accident_Index'].isin\n",
    "                      (df1[u'Accident_Index'])]\n",
    "    else:\n",
    "        df2 = df2.loc[df2['Acc_Index'].isin(df1['Accident_Index'])]\n",
    "    df2.to_csv('data1/Casualties_M_' + year + '.csv')"
   ]
  },
  {
   "cell_type": "markdown",
   "metadata": {
    "collapsed": true
   },
   "source": [
    "## Data Cleaning 2nd Round\n",
    "* Select all the accident data from Motorway, A(M) roads.\n",
    "* Save as another CSV document in 'data2' folder."
   ]
  },
  {
   "cell_type": "code",
   "execution_count": 3,
   "metadata": {
    "collapsed": false
   },
   "outputs": [],
   "source": [
    "years = ['2009', '2010', '2011', '2012', '2013', '2014']\n",
    "for year in years:\n",
    "    df = pd.read_csv('data/DfTRoadSafety_Accidents_' + year + '.csv',low_memory=False)\n",
    "    df = df[df['1st_Road_Class'] <= 2]\n",
    "    df.to_csv('data2/Accidents_' + year + '.csv')"
   ]
  },
  {
   "cell_type": "markdown",
   "metadata": {
    "collapsed": true
   },
   "source": [
    "## Data Cleaning 3rd Round\n",
    "* Add casualty information (extract from casualty dataset) to accident dataset."
   ]
  },
  {
   "cell_type": "code",
   "execution_count": 44,
   "metadata": {
    "collapsed": false,
    "scrolled": true
   },
   "outputs": [],
   "source": [
    "df = pd.read_csv('data1/Casualties_M_2014.csv',low_memory=False)\n",
    "df = df[df['Casualty_Severity']<3]  # fatal and serious casualties\n",
    "n_kis = df['Accident_Index'].value_counts()\n",
    "df2 = pd.DataFrame({'Accident_Index': n_kis.index, 'Number_of_KIS': n_kis.values})\n",
    "df1 = pd.read_csv('data2/Accidents_2014.csv', low_memory=False, encoding=\"utf-8-sig\")\n",
    "df3 = pd.merge(df1, df2, on = u'Accident_Index', how = 'outer')\n",
    "df3['Number_of_KIS'] = df3['Number_of_KIS'].fillna(0)\n",
    "df3.to_csv('data2/Accidents_kis_2014.csv')"
   ]
  }
 ],
 "metadata": {
  "kernelspec": {
   "display_name": "Python 2",
   "language": "python",
   "name": "python2"
  },
  "language_info": {
   "codemirror_mode": {
    "name": "ipython",
    "version": 2
   },
   "file_extension": ".py",
   "mimetype": "text/x-python",
   "name": "python",
   "nbconvert_exporter": "python",
   "pygments_lexer": "ipython2",
   "version": "2.7.11"
  }
 },
 "nbformat": 4,
 "nbformat_minor": 0
}
